{
 "cells": [
  {
   "cell_type": "markdown",
   "metadata": {},
   "source": [
    "# Financial Planning with APIs and Simulations"
   ]
  },
  {
   "cell_type": "code",
   "execution_count": 1,
   "metadata": {},
   "outputs": [],
   "source": [
    "# Import the required libraries and dependencies\n",
    "import os\n",
    "import requests\n",
    "import json\n",
    "import pandas as pd\n",
    "from dotenv import load_dotenv\n",
    "import alpaca_trade_api as tradeapi\n",
    "from MCForecastTools import MCSimulation\n",
    "\n",
    "%matplotlib inline"
   ]
  },
  {
   "cell_type": "code",
   "execution_count": 2,
   "metadata": {},
   "outputs": [
    {
     "data": {
      "text/plain": [
       "True"
      ]
     },
     "execution_count": 2,
     "metadata": {},
     "output_type": "execute_result"
    }
   ],
   "source": [
    "# Load the environment variables from the .env file\n",
    "#by calling the load_dotenv function\n",
    "load_dotenv()"
   ]
  },
  {
   "cell_type": "markdown",
   "metadata": {},
   "source": [
    "## Part 1: Create a Financial Planner for Emergencies"
   ]
  },
  {
   "cell_type": "code",
   "execution_count": 3,
   "metadata": {},
   "outputs": [],
   "source": [
    "# The current number of coins for each cryptocurrency asset held in the portfolio - *inputted values*\n",
    "btc_coins = 1.2\n",
    "eth_coins = 5.3"
   ]
  },
  {
   "cell_type": "code",
   "execution_count": 4,
   "metadata": {},
   "outputs": [],
   "source": [
    "# The monthly amount for the member's household income - *inputted values*\n",
    "monthly_income = 12000"
   ]
  },
  {
   "cell_type": "code",
   "execution_count": 5,
   "metadata": {},
   "outputs": [],
   "source": [
    "# The Free Crypto API Call endpoint URLs for the held cryptocurrency assets\n",
    "btc_url = \"https://api.alternative.me/v2/ticker/Bitcoin/?convert=USD\"\n",
    "eth_url = \"https://api.alternative.me/v2/ticker/Ethereum/?convert=USD\""
   ]
  },
  {
   "cell_type": "code",
   "execution_count": 6,
   "metadata": {},
   "outputs": [
    {
     "name": "stdout",
     "output_type": "stream",
     "text": [
      "{\n",
      "    \"data\": {\n",
      "        \"1\": {\n",
      "            \"circulating_supply\": 19097087,\n",
      "            \"id\": 1,\n",
      "            \"last_updated\": 1658178522,\n",
      "            \"max_supply\": 21000000,\n",
      "            \"name\": \"Bitcoin\",\n",
      "            \"quotes\": {\n",
      "                \"USD\": {\n",
      "                    \"market_cap\": 410680575755,\n",
      "                    \"percent_change_1h\": -0.335375293109418,\n",
      "                    \"percent_change_24h\": 2.58610770398241,\n",
      "                    \"percent_change_7d\": 3.05619442404104,\n",
      "                    \"percentage_change_1h\": -0.335375293109418,\n",
      "                    \"percentage_change_24h\": 2.58610770398241,\n",
      "                    \"percentage_change_7d\": 3.05619442404104,\n",
      "                    \"price\": 21497.0,\n",
      "                    \"volume_24h\": 53185246290\n",
      "                }\n",
      "            },\n",
      "            \"rank\": 1,\n",
      "            \"symbol\": \"BTC\",\n",
      "            \"total_supply\": 19097087,\n",
      "            \"website_slug\": \"bitcoin\"\n",
      "        }\n",
      "    },\n",
      "    \"metadata\": {\n",
      "        \"error\": null,\n",
      "        \"num_cryptocurrencies\": 3116,\n",
      "        \"timestamp\": 1658178522\n",
      "    }\n",
      "}\n"
     ]
    }
   ],
   "source": [
    "# API call to access the current price of BTC\n",
    "btc_response = requests.get(btc_url).json()\n",
    "\n",
    "# Review the JSON response\n",
    "print(json.dumps(btc_response, indent=4, sort_keys=True))"
   ]
  },
  {
   "cell_type": "code",
   "execution_count": 7,
   "metadata": {},
   "outputs": [
    {
     "name": "stdout",
     "output_type": "stream",
     "text": [
      "{\n",
      "    \"data\": {\n",
      "        \"1027\": {\n",
      "            \"circulating_supply\": 119732735,\n",
      "            \"id\": 1027,\n",
      "            \"last_updated\": 1658178568,\n",
      "            \"max_supply\": 119732309,\n",
      "            \"name\": \"Ethereum\",\n",
      "            \"quotes\": {\n",
      "                \"USD\": {\n",
      "                    \"market_cap\": 176381914240,\n",
      "                    \"percent_change_1h\": 0.466092043408763,\n",
      "                    \"percent_change_24h\": 9.50819585369165,\n",
      "                    \"percent_change_7d\": 26.0265159147234,\n",
      "                    \"percentage_change_1h\": 0.466092043408763,\n",
      "                    \"percentage_change_24h\": 9.50819585369165,\n",
      "                    \"percentage_change_7d\": 26.0265159147234,\n",
      "                    \"price\": 1473.27,\n",
      "                    \"volume_24h\": 23743112256\n",
      "                }\n",
      "            },\n",
      "            \"rank\": 2,\n",
      "            \"symbol\": \"ETH\",\n",
      "            \"total_supply\": 119732735,\n",
      "            \"website_slug\": \"ethereum\"\n",
      "        }\n",
      "    },\n",
      "    \"metadata\": {\n",
      "        \"error\": null,\n",
      "        \"num_cryptocurrencies\": 3116,\n",
      "        \"timestamp\": 1658178568\n",
      "    }\n",
      "}\n"
     ]
    }
   ],
   "source": [
    "# API call to access the current price ETH\n",
    "eth_response = requests.get(eth_url).json()\n",
    "\n",
    "# Review the JSON response\n",
    "print(json.dumps(eth_response, indent=4, sort_keys=True))"
   ]
  },
  {
   "cell_type": "code",
   "execution_count": 8,
   "metadata": {},
   "outputs": [
    {
     "name": "stdout",
     "output_type": "stream",
     "text": [
      "The current price of BTC is $ 21497.00.\n"
     ]
    }
   ],
   "source": [
    "# Access the current price of BTC\n",
    "btc_price = btc_response['data']['1']['quotes']['USD']['price']\n",
    "print(f\"The current price of BTC is ${btc_price: .2f}.\")"
   ]
  },
  {
   "cell_type": "code",
   "execution_count": 9,
   "metadata": {},
   "outputs": [
    {
     "name": "stdout",
     "output_type": "stream",
     "text": [
      "The current price of ETH is $ 1473.27.\n"
     ]
    }
   ],
   "source": [
    "# Access the current price of ETH\n",
    "eth_price = eth_response['data']['1027']['quotes']['USD']['price']\n",
    "print(f\"The current price of ETH is ${eth_price: .2f}.\")"
   ]
  },
  {
   "cell_type": "code",
   "execution_count": 10,
   "metadata": {},
   "outputs": [
    {
     "name": "stdout",
     "output_type": "stream",
     "text": [
      "The total value of your holdings of BTC is $ 25796.40.\n"
     ]
    }
   ],
   "source": [
    "# Compute the current value of the BTC holding \n",
    "btc_value = btc_coins * btc_price\n",
    "print(f\"The total value of your holdings of BTC is ${btc_value: .2f}.\")"
   ]
  },
  {
   "cell_type": "code",
   "execution_count": 11,
   "metadata": {},
   "outputs": [
    {
     "name": "stdout",
     "output_type": "stream",
     "text": [
      "The total value of your holdings of BTC is $ 7808.33.\n"
     ]
    }
   ],
   "source": [
    "# Compute the current value of the ETH holding \n",
    "eth_value = eth_coins * eth_price\n",
    "print(f\"The total value of your holdings of BTC is ${eth_value: .2f}.\")"
   ]
  },
  {
   "cell_type": "code",
   "execution_count": 12,
   "metadata": {},
   "outputs": [
    {
     "name": "stdout",
     "output_type": "stream",
     "text": [
      "The current value of all of your cryptocurrency holdings is $ 33604.73.\n"
     ]
    }
   ],
   "source": [
    "# Compute the total value of the cryptocurrency wallet\n",
    "total_crypto_wallet = btc_value + eth_value\n",
    "print(f\"The current value of all of your cryptocurrency holdings is ${total_crypto_wallet: .2f}.\")"
   ]
  },
  {
   "cell_type": "markdown",
   "metadata": {},
   "source": [
    "### Evaluate the Stock and Bond Holdings by Using the Alpaca SDK"
   ]
  },
  {
   "cell_type": "code",
   "execution_count": 13,
   "metadata": {},
   "outputs": [],
   "source": [
    "# Current amount of shares held in both the stock (SPY) and bond (AGG) portion of the portfolio - *inputted values*\n",
    "spy_shares = 110\n",
    "agg_shares = 200"
   ]
  },
  {
   "cell_type": "code",
   "execution_count": 14,
   "metadata": {},
   "outputs": [],
   "source": [
    "# Setup the Alpaca API and secret keys\n",
    "alpaca_api_key = os.getenv(\"ALPACA_API_KEY\")\n",
    "alpaca_secret_key = os.getenv(\"ALPACA_SECRET_KEY\")\n",
    "\n",
    "# Create the Alpaca tradeapi.REST object\n",
    "alpaca = tradeapi.REST(\n",
    "    alpaca_api_key,\n",
    "    alpaca_secret_key,\n",
    "    api_version=\"v2.3.0\"\n",
    ")"
   ]
  },
  {
   "cell_type": "code",
   "execution_count": 15,
   "metadata": {},
   "outputs": [],
   "source": [
    "# Set the tickers for both the bond and stock portion of the portfolio\n",
    "tickers = [\"SPY\", \"AGG\"]\n",
    "\n",
    "# Set timeframe to 1Day\n",
    "timeframe = \"1D\"\n",
    "\n",
    "# Format current date as ISO format, start and end date set to previous closed trading day\n",
    "start_date = pd.Timestamp(\"2022-07-15\", tz=\"America/New_York\").isoformat()\n",
    "end_date = pd.Timestamp(\"2022-07-15\", tz=\"America/New_York\").isoformat()"
   ]
  },
  {
   "cell_type": "code",
   "execution_count": 16,
   "metadata": {},
   "outputs": [
    {
     "data": {
      "text/html": [
       "<div>\n",
       "<style scoped>\n",
       "    .dataframe tbody tr th:only-of-type {\n",
       "        vertical-align: middle;\n",
       "    }\n",
       "\n",
       "    .dataframe tbody tr th {\n",
       "        vertical-align: top;\n",
       "    }\n",
       "\n",
       "    .dataframe thead th {\n",
       "        text-align: right;\n",
       "    }\n",
       "</style>\n",
       "<table border=\"1\" class=\"dataframe\">\n",
       "  <thead>\n",
       "    <tr style=\"text-align: right;\">\n",
       "      <th>symbol</th>\n",
       "      <th>AGG</th>\n",
       "      <th>SPY</th>\n",
       "    </tr>\n",
       "  </thead>\n",
       "  <tbody>\n",
       "    <tr>\n",
       "      <th>2022-07-15</th>\n",
       "      <td>102.25</td>\n",
       "      <td>385.13</td>\n",
       "    </tr>\n",
       "  </tbody>\n",
       "</table>\n",
       "</div>"
      ],
      "text/plain": [
       "symbol         AGG     SPY\n",
       "2022-07-15  102.25  385.13"
      ]
     },
     "execution_count": 16,
     "metadata": {},
     "output_type": "execute_result"
    }
   ],
   "source": [
    "# Create the DataFrame\n",
    "df_portfolio = alpaca.get_bars(\n",
    "    tickers,\n",
    "    timeframe,\n",
    "    start = start_date,\n",
    "    end = end_date\n",
    ").df\n",
    "\n",
    "# Reorganize the DataFrame\n",
    "df_portfolio = df_portfolio.pivot_table(columns=['symbol'], values='close', index=df_portfolio.index.date)\n",
    "df_portfolio\n"
   ]
  },
  {
   "cell_type": "code",
   "execution_count": 17,
   "metadata": {},
   "outputs": [
    {
     "data": {
      "text/plain": [
       "102.25"
      ]
     },
     "execution_count": 17,
     "metadata": {},
     "output_type": "execute_result"
    }
   ],
   "source": [
    "# Access the closing price for AGG from the Alpaca DataFrame\n",
    "agg_close_price = df_portfolio.iloc[0,0]\n",
    "agg_close_price"
   ]
  },
  {
   "cell_type": "code",
   "execution_count": 18,
   "metadata": {},
   "outputs": [
    {
     "data": {
      "text/plain": [
       "385.13"
      ]
     },
     "execution_count": 18,
     "metadata": {},
     "output_type": "execute_result"
    }
   ],
   "source": [
    "# Access the closing price for SPY from the Alpaca DataFrame\n",
    "spy_close_price = df_portfolio.iloc[0,1]\n",
    "spy_close_price"
   ]
  },
  {
   "cell_type": "code",
   "execution_count": 19,
   "metadata": {},
   "outputs": [
    {
     "name": "stdout",
     "output_type": "stream",
     "text": [
      "The current value of your bond portfolio is $ 20450.00.\n"
     ]
    }
   ],
   "source": [
    "# Calculate the current value of the bond portion of the portfolio\n",
    "agg_value = agg_shares * agg_close_price\n",
    "print(f\"The current value of your bond portfolio is ${agg_value: .2f}.\")"
   ]
  },
  {
   "cell_type": "code",
   "execution_count": 20,
   "metadata": {},
   "outputs": [
    {
     "name": "stdout",
     "output_type": "stream",
     "text": [
      "The current value of your stock portfolio is $ 42364.30.\n"
     ]
    }
   ],
   "source": [
    "# Calculate the current value of the stock portion of the portfolio\n",
    "spy_value = spy_shares * spy_close_price\n",
    "print(f\"The current value of your stock portfolio is ${spy_value: .2f}.\")"
   ]
  },
  {
   "cell_type": "code",
   "execution_count": 21,
   "metadata": {},
   "outputs": [
    {
     "name": "stdout",
     "output_type": "stream",
     "text": [
      "The current value of the stock and bond portfolio is $ 62814.30.\n"
     ]
    }
   ],
   "source": [
    "# Calculate the total value of the stock and bond portion of the portfolio\n",
    "total_stocks_bonds = agg_value + spy_value\n",
    "print(f\"The current value of the stock and bond portfolio is ${total_stocks_bonds: .2f}.\")"
   ]
  },
  {
   "cell_type": "code",
   "execution_count": 22,
   "metadata": {},
   "outputs": [
    {
     "name": "stdout",
     "output_type": "stream",
     "text": [
      "The total value of your entire portfolio is $ 96419.03.\n"
     ]
    }
   ],
   "source": [
    "# Calculate the total value of the member's entire savings portfolio\n",
    "total_portfolio = total_crypto_wallet + total_stocks_bonds\n",
    "print(f\"The total value of your entire portfolio is ${total_portfolio: .2f}.\")"
   ]
  },
  {
   "cell_type": "markdown",
   "metadata": {},
   "source": [
    "### Evaluate the Emergency Fund"
   ]
  },
  {
   "cell_type": "code",
   "execution_count": 23,
   "metadata": {},
   "outputs": [
    {
     "data": {
      "text/plain": [
       "[33604.731, 62814.3]"
      ]
     },
     "execution_count": 23,
     "metadata": {},
     "output_type": "execute_result"
    }
   ],
   "source": [
    "# Consolidate financial assets data into a Python list\n",
    "savings_data = [total_crypto_wallet, total_stocks_bonds]\n",
    "\n",
    "# Review the Python list savings_data\n",
    "savings_data\n",
    "    "
   ]
  },
  {
   "cell_type": "code",
   "execution_count": 24,
   "metadata": {},
   "outputs": [
    {
     "data": {
      "text/html": [
       "<div>\n",
       "<style scoped>\n",
       "    .dataframe tbody tr th:only-of-type {\n",
       "        vertical-align: middle;\n",
       "    }\n",
       "\n",
       "    .dataframe tbody tr th {\n",
       "        vertical-align: top;\n",
       "    }\n",
       "\n",
       "    .dataframe thead th {\n",
       "        text-align: right;\n",
       "    }\n",
       "</style>\n",
       "<table border=\"1\" class=\"dataframe\">\n",
       "  <thead>\n",
       "    <tr style=\"text-align: right;\">\n",
       "      <th></th>\n",
       "      <th>Amount</th>\n",
       "    </tr>\n",
       "  </thead>\n",
       "  <tbody>\n",
       "    <tr>\n",
       "      <th>Crypto</th>\n",
       "      <td>33604.731</td>\n",
       "    </tr>\n",
       "    <tr>\n",
       "      <th>Stock/Bonds</th>\n",
       "      <td>62814.300</td>\n",
       "    </tr>\n",
       "  </tbody>\n",
       "</table>\n",
       "</div>"
      ],
      "text/plain": [
       "                Amount\n",
       "Crypto       33604.731\n",
       "Stock/Bonds  62814.300"
      ]
     },
     "execution_count": 24,
     "metadata": {},
     "output_type": "execute_result"
    }
   ],
   "source": [
    "# Create the DataFrame\n",
    "savings_df = pd.DataFrame(\n",
    "    savings_data, \n",
    "    columns=[\"Amount\"], \n",
    "    index=[\"Crypto\", \"Stock/Bonds\"]\n",
    ")\n",
    "\n",
    "savings_df"
   ]
  },
  {
   "cell_type": "code",
   "execution_count": 25,
   "metadata": {},
   "outputs": [
    {
     "data": {
      "text/plain": [
       "<AxesSubplot:title={'center':'Customer Portfolio Allocations'}, ylabel='Amount'>"
      ]
     },
     "execution_count": 25,
     "metadata": {},
     "output_type": "execute_result"
    },
    {
     "data": {
      "image/png": "[encoded data removed]",
      "text/plain": [
       "<Figure size 504x504 with 1 Axes>"
      ]
     },
     "metadata": {},
     "output_type": "display_data"
    }
   ],
   "source": [
    "# Plot the total value of the member's portfolio (crypto and stock/bond) in a pie chart\n",
    "savings_df.plot.pie(y='Amount', figsize = (7, 7), title = \"Customer Portfolio Allocations\")"
   ]
  },
  {
   "cell_type": "code",
   "execution_count": 26,
   "metadata": {},
   "outputs": [],
   "source": [
    "# Set the value of the emergency fund to 3 months of the customer's montly income\n",
    "emergency_fund_value = monthly_income * 3"
   ]
  },
  {
   "cell_type": "code",
   "execution_count": 27,
   "metadata": {},
   "outputs": [
    {
     "name": "stdout",
     "output_type": "stream",
     "text": [
      "Congratulations, you have enough money in your investment portfolio to fund an emergency savings account!\n"
     ]
    }
   ],
   "source": [
    "# Evaluate the possibility of creating an emergency fund with 3 conditions:\n",
    "if total_portfolio > emergency_fund_value:\n",
    "    print(f\"Congratulations, you have enough money in your investment portfolio to fund an emergency savings account!\")\n",
    "elif total_portfolio == emergency_fund_value:\n",
    "    print(f\"Congratulations, you have met an important financial goal!\")\n",
    "elif total_portfolio < emergency_fund_value:\n",
    "    print(f\"Your investment portfolio is below your required savings amount, you need to save ${abs(total_portfolio-emergency_fund_value): .2f} in order to achieve a 3 month emergency fund.\")"
   ]
  },
  {
   "cell_type": "markdown",
   "metadata": {},
   "source": [
    "## Part 2: Create a Financial Planner for Retirement"
   ]
  },
  {
   "cell_type": "code",
   "execution_count": 28,
   "metadata": {},
   "outputs": [],
   "source": [
    "# Set start and end dates of 3 years of data (limited by Alpaca API)\n",
    "start_date = pd.Timestamp(\"2019-07-15\", tz=\"America/New_York\").isoformat()\n",
    "end_date = pd.Timestamp(\"2022-07-15\", tz=\"America/New_York\").isoformat()"
   ]
  },
  {
   "cell_type": "code",
   "execution_count": 29,
   "metadata": {},
   "outputs": [
    {
     "data": {
      "text/html": [
       "<div>\n",
       "<style scoped>\n",
       "    .dataframe tbody tr th:only-of-type {\n",
       "        vertical-align: middle;\n",
       "    }\n",
       "\n",
       "    .dataframe tbody tr th {\n",
       "        vertical-align: top;\n",
       "    }\n",
       "\n",
       "    .dataframe thead tr th {\n",
       "        text-align: left;\n",
       "    }\n",
       "\n",
       "    .dataframe thead tr:last-of-type th {\n",
       "        text-align: right;\n",
       "    }\n",
       "</style>\n",
       "<table border=\"1\" class=\"dataframe\">\n",
       "  <thead>\n",
       "    <tr>\n",
       "      <th></th>\n",
       "      <th colspan=\"5\" halign=\"left\">AGG</th>\n",
       "      <th colspan=\"5\" halign=\"left\">SPY</th>\n",
       "    </tr>\n",
       "    <tr>\n",
       "      <th></th>\n",
       "      <th>open</th>\n",
       "      <th>high</th>\n",
       "      <th>low</th>\n",
       "      <th>close</th>\n",
       "      <th>volume</th>\n",
       "      <th>open</th>\n",
       "      <th>high</th>\n",
       "      <th>low</th>\n",
       "      <th>close</th>\n",
       "      <th>volume</th>\n",
       "    </tr>\n",
       "    <tr>\n",
       "      <th>timestamp</th>\n",
       "      <th></th>\n",
       "      <th></th>\n",
       "      <th></th>\n",
       "      <th></th>\n",
       "      <th></th>\n",
       "      <th></th>\n",
       "      <th></th>\n",
       "      <th></th>\n",
       "      <th></th>\n",
       "      <th></th>\n",
       "    </tr>\n",
       "  </thead>\n",
       "  <tbody>\n",
       "    <tr>\n",
       "      <th>2022-07-11 04:00:00+00:00</th>\n",
       "      <td>101.67</td>\n",
       "      <td>101.92</td>\n",
       "      <td>101.6029</td>\n",
       "      <td>101.70</td>\n",
       "      <td>5758310</td>\n",
       "      <td>385.91</td>\n",
       "      <td>386.8700</td>\n",
       "      <td>383.500</td>\n",
       "      <td>384.23</td>\n",
       "      <td>58100363</td>\n",
       "    </tr>\n",
       "    <tr>\n",
       "      <th>2022-07-12 04:00:00+00:00</th>\n",
       "      <td>102.02</td>\n",
       "      <td>102.19</td>\n",
       "      <td>101.8200</td>\n",
       "      <td>101.84</td>\n",
       "      <td>6664991</td>\n",
       "      <td>383.66</td>\n",
       "      <td>386.1600</td>\n",
       "      <td>378.990</td>\n",
       "      <td>380.83</td>\n",
       "      <td>62027220</td>\n",
       "    </tr>\n",
       "    <tr>\n",
       "      <th>2022-07-13 04:00:00+00:00</th>\n",
       "      <td>101.23</td>\n",
       "      <td>102.24</td>\n",
       "      <td>101.1900</td>\n",
       "      <td>102.21</td>\n",
       "      <td>6514247</td>\n",
       "      <td>375.09</td>\n",
       "      <td>381.9200</td>\n",
       "      <td>374.658</td>\n",
       "      <td>378.83</td>\n",
       "      <td>83575452</td>\n",
       "    </tr>\n",
       "    <tr>\n",
       "      <th>2022-07-14 04:00:00+00:00</th>\n",
       "      <td>101.51</td>\n",
       "      <td>101.98</td>\n",
       "      <td>101.3300</td>\n",
       "      <td>101.85</td>\n",
       "      <td>6224496</td>\n",
       "      <td>373.99</td>\n",
       "      <td>379.0498</td>\n",
       "      <td>371.040</td>\n",
       "      <td>377.91</td>\n",
       "      <td>89349688</td>\n",
       "    </tr>\n",
       "    <tr>\n",
       "      <th>2022-07-15 04:00:00+00:00</th>\n",
       "      <td>101.94</td>\n",
       "      <td>102.35</td>\n",
       "      <td>101.9000</td>\n",
       "      <td>102.25</td>\n",
       "      <td>8440151</td>\n",
       "      <td>382.62</td>\n",
       "      <td>385.2500</td>\n",
       "      <td>380.540</td>\n",
       "      <td>385.13</td>\n",
       "      <td>79318992</td>\n",
       "    </tr>\n",
       "  </tbody>\n",
       "</table>\n",
       "</div>"
      ],
      "text/plain": [
       "                              AGG                                        SPY  \\\n",
       "                             open    high       low   close   volume    open   \n",
       "timestamp                                                                      \n",
       "2022-07-11 04:00:00+00:00  101.67  101.92  101.6029  101.70  5758310  385.91   \n",
       "2022-07-12 04:00:00+00:00  102.02  102.19  101.8200  101.84  6664991  383.66   \n",
       "2022-07-13 04:00:00+00:00  101.23  102.24  101.1900  102.21  6514247  375.09   \n",
       "2022-07-14 04:00:00+00:00  101.51  101.98  101.3300  101.85  6224496  373.99   \n",
       "2022-07-15 04:00:00+00:00  101.94  102.35  101.9000  102.25  8440151  382.62   \n",
       "\n",
       "                                                                \n",
       "                               high      low   close    volume  \n",
       "timestamp                                                       \n",
       "2022-07-11 04:00:00+00:00  386.8700  383.500  384.23  58100363  \n",
       "2022-07-12 04:00:00+00:00  386.1600  378.990  380.83  62027220  \n",
       "2022-07-13 04:00:00+00:00  381.9200  374.658  378.83  83575452  \n",
       "2022-07-14 04:00:00+00:00  379.0498  371.040  377.91  89349688  \n",
       "2022-07-15 04:00:00+00:00  385.2500  380.540  385.13  79318992  "
      ]
     },
     "execution_count": 29,
     "metadata": {},
     "output_type": "execute_result"
    }
   ],
   "source": [
    "# API call to get the 3 years worth of pricing data\n",
    "retirement_df = alpaca.get_bars(\n",
    "    tickers,\n",
    "    timeframe,\n",
    "    start=start_date,\n",
    "    end=end_date\n",
    ").df\n",
    "retirement_df\n",
    "retirement_df = retirement_df.drop(columns=['trade_count','vwap'])\n",
    "\n",
    "# Reorganize the DataFrame\n",
    "# Separate ticker data\n",
    "AGG = retirement_df[retirement_df['symbol']=='AGG'].drop('symbol', axis=1)\n",
    "SPY = retirement_df[retirement_df['symbol']=='SPY'].drop('symbol', axis=1)\n",
    "\n",
    "# Concatenate the ticker DataFrames\n",
    "retirement_df=pd.concat([AGG, SPY], axis=1, keys=[\"AGG\", \"SPY\"])\n",
    "\n",
    "retirement_df.head()\n",
    "retirement_df.tail()"
   ]
  },
  {
   "cell_type": "code",
   "execution_count": 30,
   "metadata": {},
   "outputs": [
    {
     "data": {
      "text/html": [
       "<div>\n",
       "<style scoped>\n",
       "    .dataframe tbody tr th:only-of-type {\n",
       "        vertical-align: middle;\n",
       "    }\n",
       "\n",
       "    .dataframe tbody tr th {\n",
       "        vertical-align: top;\n",
       "    }\n",
       "\n",
       "    .dataframe thead tr th {\n",
       "        text-align: left;\n",
       "    }\n",
       "\n",
       "    .dataframe thead tr:last-of-type th {\n",
       "        text-align: right;\n",
       "    }\n",
       "</style>\n",
       "<table border=\"1\" class=\"dataframe\">\n",
       "  <thead>\n",
       "    <tr>\n",
       "      <th></th>\n",
       "      <th colspan=\"6\" halign=\"left\">AGG</th>\n",
       "      <th colspan=\"6\" halign=\"left\">SPY</th>\n",
       "    </tr>\n",
       "    <tr>\n",
       "      <th></th>\n",
       "      <th>open</th>\n",
       "      <th>high</th>\n",
       "      <th>low</th>\n",
       "      <th>close</th>\n",
       "      <th>volume</th>\n",
       "      <th>daily_return</th>\n",
       "      <th>open</th>\n",
       "      <th>high</th>\n",
       "      <th>low</th>\n",
       "      <th>close</th>\n",
       "      <th>volume</th>\n",
       "      <th>daily_return</th>\n",
       "    </tr>\n",
       "    <tr>\n",
       "      <th>timestamp</th>\n",
       "      <th></th>\n",
       "      <th></th>\n",
       "      <th></th>\n",
       "      <th></th>\n",
       "      <th></th>\n",
       "      <th></th>\n",
       "      <th></th>\n",
       "      <th></th>\n",
       "      <th></th>\n",
       "      <th></th>\n",
       "      <th></th>\n",
       "      <th></th>\n",
       "    </tr>\n",
       "  </thead>\n",
       "  <tbody>\n",
       "    <tr>\n",
       "      <th>2019-07-15 04:00:00+00:00</th>\n",
       "      <td>110.87</td>\n",
       "      <td>110.960</td>\n",
       "      <td>110.85</td>\n",
       "      <td>110.95</td>\n",
       "      <td>3619089</td>\n",
       "      <td>NaN</td>\n",
       "      <td>301.12</td>\n",
       "      <td>301.13</td>\n",
       "      <td>300.19</td>\n",
       "      <td>300.75</td>\n",
       "      <td>33992129</td>\n",
       "      <td>NaN</td>\n",
       "    </tr>\n",
       "    <tr>\n",
       "      <th>2019-07-16 04:00:00+00:00</th>\n",
       "      <td>110.75</td>\n",
       "      <td>110.830</td>\n",
       "      <td>110.64</td>\n",
       "      <td>110.83</td>\n",
       "      <td>2149083</td>\n",
       "      <td>-0.001082</td>\n",
       "      <td>300.64</td>\n",
       "      <td>300.88</td>\n",
       "      <td>299.44</td>\n",
       "      <td>299.71</td>\n",
       "      <td>40807546</td>\n",
       "      <td>-0.003458</td>\n",
       "    </tr>\n",
       "    <tr>\n",
       "      <th>2019-07-17 04:00:00+00:00</th>\n",
       "      <td>110.93</td>\n",
       "      <td>111.140</td>\n",
       "      <td>110.91</td>\n",
       "      <td>111.12</td>\n",
       "      <td>2985610</td>\n",
       "      <td>0.002617</td>\n",
       "      <td>299.77</td>\n",
       "      <td>299.93</td>\n",
       "      <td>297.74</td>\n",
       "      <td>297.74</td>\n",
       "      <td>44343835</td>\n",
       "      <td>-0.006573</td>\n",
       "    </tr>\n",
       "    <tr>\n",
       "      <th>2019-07-18 04:00:00+00:00</th>\n",
       "      <td>111.10</td>\n",
       "      <td>111.330</td>\n",
       "      <td>111.06</td>\n",
       "      <td>111.30</td>\n",
       "      <td>5982223</td>\n",
       "      <td>0.001620</td>\n",
       "      <td>297.18</td>\n",
       "      <td>299.25</td>\n",
       "      <td>296.70</td>\n",
       "      <td>298.83</td>\n",
       "      <td>53567032</td>\n",
       "      <td>0.003661</td>\n",
       "    </tr>\n",
       "    <tr>\n",
       "      <th>2019-07-19 04:00:00+00:00</th>\n",
       "      <td>111.22</td>\n",
       "      <td>111.286</td>\n",
       "      <td>111.14</td>\n",
       "      <td>111.17</td>\n",
       "      <td>3150774</td>\n",
       "      <td>-0.001168</td>\n",
       "      <td>300.01</td>\n",
       "      <td>300.07</td>\n",
       "      <td>296.96</td>\n",
       "      <td>297.17</td>\n",
       "      <td>76794138</td>\n",
       "      <td>-0.005555</td>\n",
       "    </tr>\n",
       "  </tbody>\n",
       "</table>\n",
       "</div>"
      ],
      "text/plain": [
       "                              AGG                                    \\\n",
       "                             open     high     low   close   volume   \n",
       "timestamp                                                             \n",
       "2019-07-15 04:00:00+00:00  110.87  110.960  110.85  110.95  3619089   \n",
       "2019-07-16 04:00:00+00:00  110.75  110.830  110.64  110.83  2149083   \n",
       "2019-07-17 04:00:00+00:00  110.93  111.140  110.91  111.12  2985610   \n",
       "2019-07-18 04:00:00+00:00  111.10  111.330  111.06  111.30  5982223   \n",
       "2019-07-19 04:00:00+00:00  111.22  111.286  111.14  111.17  3150774   \n",
       "\n",
       "                                           SPY                          \\\n",
       "                          daily_return    open    high     low   close   \n",
       "timestamp                                                                \n",
       "2019-07-15 04:00:00+00:00          NaN  301.12  301.13  300.19  300.75   \n",
       "2019-07-16 04:00:00+00:00    -0.001082  300.64  300.88  299.44  299.71   \n",
       "2019-07-17 04:00:00+00:00     0.002617  299.77  299.93  297.74  297.74   \n",
       "2019-07-18 04:00:00+00:00     0.001620  297.18  299.25  296.70  298.83   \n",
       "2019-07-19 04:00:00+00:00    -0.001168  300.01  300.07  296.96  297.17   \n",
       "\n",
       "                                                  \n",
       "                             volume daily_return  \n",
       "timestamp                                         \n",
       "2019-07-15 04:00:00+00:00  33992129          NaN  \n",
       "2019-07-16 04:00:00+00:00  40807546    -0.003458  \n",
       "2019-07-17 04:00:00+00:00  44343835    -0.006573  \n",
       "2019-07-18 04:00:00+00:00  53567032     0.003661  \n",
       "2019-07-19 04:00:00+00:00  76794138    -0.005555  "
      ]
     },
     "execution_count": 30,
     "metadata": {},
     "output_type": "execute_result"
    }
   ],
   "source": [
    "# Configure the Monte Carlo simulation to forecast 30 years cumulative returns with \n",
    "# 40/60 split bonds and stocks respectively\n",
    "retirement_MC = MCSimulation(\n",
    "    portfolio_data = retirement_df,\n",
    "    weights = [.4, .6],\n",
    "    num_simulation = 500,\n",
    "    num_trading_days=252*30\n",
    ")\n",
    "\n",
    "retirement_MC.portfolio_data.head()"
   ]
  },
  {
   "cell_type": "code",
   "execution_count": 31,
   "metadata": {},
   "outputs": [
    {
     "name": "stdout",
     "output_type": "stream",
     "text": [
      "Running Monte Carlo simulation number 0.\n",
      "Running Monte Carlo simulation number 10.\n",
      "Running Monte Carlo simulation number 20.\n",
      "Running Monte Carlo simulation number 30.\n",
      "Running Monte Carlo simulation number 40.\n",
      "Running Monte Carlo simulation number 50.\n",
      "Running Monte Carlo simulation number 60.\n",
      "Running Monte Carlo simulation number 70.\n",
      "Running Monte Carlo simulation number 80.\n",
      "Running Monte Carlo simulation number 90.\n",
      "Running Monte Carlo simulation number 100.\n"
     ]
    },
    {
     "name": "stderr",
     "output_type": "stream",
     "text": [
      "C:\\Users\\Ryan Mangum\\Desktop\\FinTech_Workspace\\Challenges\\Challenge_5\\Financial_Planner_Emergencies_-_Retirement\\MCForecastTools.py:117: PerformanceWarning: DataFrame is highly fragmented.  This is usually the result of calling `frame.insert` many times, which has poor performance.  Consider joining all columns at once using pd.concat(axis=1) instead.  To get a de-fragmented frame, use `newframe = frame.copy()`\n",
      "  portfolio_cumulative_returns[n] = (1 + sim_df.fillna(0)).cumprod()\n"
     ]
    },
    {
     "name": "stdout",
     "output_type": "stream",
     "text": [
      "Running Monte Carlo simulation number 110.\n",
      "Running Monte Carlo simulation number 120.\n",
      "Running Monte Carlo simulation number 130.\n",
      "Running Monte Carlo simulation number 140.\n",
      "Running Monte Carlo simulation number 150.\n",
      "Running Monte Carlo simulation number 160.\n",
      "Running Monte Carlo simulation number 170.\n",
      "Running Monte Carlo simulation number 180.\n",
      "Running Monte Carlo simulation number 190.\n",
      "Running Monte Carlo simulation number 200.\n",
      "Running Monte Carlo simulation number 210.\n",
      "Running Monte Carlo simulation number 220.\n",
      "Running Monte Carlo simulation number 230.\n",
      "Running Monte Carlo simulation number 240.\n",
      "Running Monte Carlo simulation number 250.\n",
      "Running Monte Carlo simulation number 260.\n",
      "Running Monte Carlo simulation number 270.\n",
      "Running Monte Carlo simulation number 280.\n",
      "Running Monte Carlo simulation number 290.\n",
      "Running Monte Carlo simulation number 300.\n",
      "Running Monte Carlo simulation number 310.\n",
      "Running Monte Carlo simulation number 320.\n",
      "Running Monte Carlo simulation number 330.\n",
      "Running Monte Carlo simulation number 340.\n",
      "Running Monte Carlo simulation number 350.\n",
      "Running Monte Carlo simulation number 360.\n",
      "Running Monte Carlo simulation number 370.\n",
      "Running Monte Carlo simulation number 380.\n",
      "Running Monte Carlo simulation number 390.\n",
      "Running Monte Carlo simulation number 400.\n",
      "Running Monte Carlo simulation number 410.\n",
      "Running Monte Carlo simulation number 420.\n",
      "Running Monte Carlo simulation number 430.\n",
      "Running Monte Carlo simulation number 440.\n",
      "Running Monte Carlo simulation number 450.\n",
      "Running Monte Carlo simulation number 460.\n",
      "Running Monte Carlo simulation number 470.\n",
      "Running Monte Carlo simulation number 480.\n",
      "Running Monte Carlo simulation number 490.\n"
     ]
    },
    {
     "data": {
      "text/html": [
       "<div>\n",
       "<style scoped>\n",
       "    .dataframe tbody tr th:only-of-type {\n",
       "        vertical-align: middle;\n",
       "    }\n",
       "\n",
       "    .dataframe tbody tr th {\n",
       "        vertical-align: top;\n",
       "    }\n",
       "\n",
       "    .dataframe thead th {\n",
       "        text-align: right;\n",
       "    }\n",
       "</style>\n",
       "<table border=\"1\" class=\"dataframe\">\n",
       "  <thead>\n",
       "    <tr style=\"text-align: right;\">\n",
       "      <th></th>\n",
       "      <th>0</th>\n",
       "      <th>1</th>\n",
       "      <th>2</th>\n",
       "      <th>3</th>\n",
       "      <th>4</th>\n",
       "      <th>5</th>\n",
       "      <th>6</th>\n",
       "      <th>7</th>\n",
       "      <th>8</th>\n",
       "      <th>9</th>\n",
       "      <th>...</th>\n",
       "      <th>490</th>\n",
       "      <th>491</th>\n",
       "      <th>492</th>\n",
       "      <th>493</th>\n",
       "      <th>494</th>\n",
       "      <th>495</th>\n",
       "      <th>496</th>\n",
       "      <th>497</th>\n",
       "      <th>498</th>\n",
       "      <th>499</th>\n",
       "    </tr>\n",
       "  </thead>\n",
       "  <tbody>\n",
       "    <tr>\n",
       "      <th>0</th>\n",
       "      <td>1.000000</td>\n",
       "      <td>1.000000</td>\n",
       "      <td>1.000000</td>\n",
       "      <td>1.000000</td>\n",
       "      <td>1.000000</td>\n",
       "      <td>1.000000</td>\n",
       "      <td>1.000000</td>\n",
       "      <td>1.000000</td>\n",
       "      <td>1.000000</td>\n",
       "      <td>1.000000</td>\n",
       "      <td>...</td>\n",
       "      <td>1.000000</td>\n",
       "      <td>1.000000</td>\n",
       "      <td>1.000000</td>\n",
       "      <td>1.000000</td>\n",
       "      <td>1.000000</td>\n",
       "      <td>1.000000</td>\n",
       "      <td>1.000000</td>\n",
       "      <td>1.000000</td>\n",
       "      <td>1.000000</td>\n",
       "      <td>1.000000</td>\n",
       "    </tr>\n",
       "    <tr>\n",
       "      <th>1</th>\n",
       "      <td>1.010158</td>\n",
       "      <td>1.006089</td>\n",
       "      <td>1.012726</td>\n",
       "      <td>1.016649</td>\n",
       "      <td>0.999649</td>\n",
       "      <td>1.003067</td>\n",
       "      <td>1.006130</td>\n",
       "      <td>1.011530</td>\n",
       "      <td>1.002096</td>\n",
       "      <td>0.985970</td>\n",
       "      <td>...</td>\n",
       "      <td>1.018597</td>\n",
       "      <td>1.003919</td>\n",
       "      <td>0.985874</td>\n",
       "      <td>0.988933</td>\n",
       "      <td>0.994466</td>\n",
       "      <td>1.003892</td>\n",
       "      <td>0.994596</td>\n",
       "      <td>1.010284</td>\n",
       "      <td>1.006244</td>\n",
       "      <td>1.006597</td>\n",
       "    </tr>\n",
       "    <tr>\n",
       "      <th>2</th>\n",
       "      <td>1.004113</td>\n",
       "      <td>0.999141</td>\n",
       "      <td>1.007267</td>\n",
       "      <td>1.019494</td>\n",
       "      <td>0.995039</td>\n",
       "      <td>1.006817</td>\n",
       "      <td>0.999641</td>\n",
       "      <td>1.014879</td>\n",
       "      <td>1.015207</td>\n",
       "      <td>0.986795</td>\n",
       "      <td>...</td>\n",
       "      <td>1.010372</td>\n",
       "      <td>1.001744</td>\n",
       "      <td>0.997299</td>\n",
       "      <td>0.985474</td>\n",
       "      <td>1.001831</td>\n",
       "      <td>1.008855</td>\n",
       "      <td>0.994687</td>\n",
       "      <td>1.015247</td>\n",
       "      <td>1.001057</td>\n",
       "      <td>1.021770</td>\n",
       "    </tr>\n",
       "    <tr>\n",
       "      <th>3</th>\n",
       "      <td>0.993511</td>\n",
       "      <td>0.985481</td>\n",
       "      <td>1.001803</td>\n",
       "      <td>1.011331</td>\n",
       "      <td>0.986608</td>\n",
       "      <td>0.997901</td>\n",
       "      <td>0.989217</td>\n",
       "      <td>1.014607</td>\n",
       "      <td>1.016125</td>\n",
       "      <td>0.973712</td>\n",
       "      <td>...</td>\n",
       "      <td>1.017705</td>\n",
       "      <td>0.999493</td>\n",
       "      <td>0.999431</td>\n",
       "      <td>0.993382</td>\n",
       "      <td>1.003622</td>\n",
       "      <td>1.005786</td>\n",
       "      <td>0.994408</td>\n",
       "      <td>1.008402</td>\n",
       "      <td>1.013694</td>\n",
       "      <td>1.007874</td>\n",
       "    </tr>\n",
       "    <tr>\n",
       "      <th>4</th>\n",
       "      <td>1.005082</td>\n",
       "      <td>0.963286</td>\n",
       "      <td>0.995859</td>\n",
       "      <td>1.007377</td>\n",
       "      <td>0.976485</td>\n",
       "      <td>0.999034</td>\n",
       "      <td>0.995521</td>\n",
       "      <td>1.008130</td>\n",
       "      <td>1.015876</td>\n",
       "      <td>0.981529</td>\n",
       "      <td>...</td>\n",
       "      <td>1.025086</td>\n",
       "      <td>0.996970</td>\n",
       "      <td>0.978743</td>\n",
       "      <td>0.985847</td>\n",
       "      <td>1.006478</td>\n",
       "      <td>1.014873</td>\n",
       "      <td>0.981078</td>\n",
       "      <td>1.002778</td>\n",
       "      <td>1.025083</td>\n",
       "      <td>1.020748</td>\n",
       "    </tr>\n",
       "    <tr>\n",
       "      <th>...</th>\n",
       "      <td>...</td>\n",
       "      <td>...</td>\n",
       "      <td>...</td>\n",
       "      <td>...</td>\n",
       "      <td>...</td>\n",
       "      <td>...</td>\n",
       "      <td>...</td>\n",
       "      <td>...</td>\n",
       "      <td>...</td>\n",
       "      <td>...</td>\n",
       "      <td>...</td>\n",
       "      <td>...</td>\n",
       "      <td>...</td>\n",
       "      <td>...</td>\n",
       "      <td>...</td>\n",
       "      <td>...</td>\n",
       "      <td>...</td>\n",
       "      <td>...</td>\n",
       "      <td>...</td>\n",
       "      <td>...</td>\n",
       "      <td>...</td>\n",
       "    </tr>\n",
       "    <tr>\n",
       "      <th>7556</th>\n",
       "      <td>8.075809</td>\n",
       "      <td>16.105709</td>\n",
       "      <td>2.432994</td>\n",
       "      <td>6.478448</td>\n",
       "      <td>1.886632</td>\n",
       "      <td>0.824700</td>\n",
       "      <td>18.587540</td>\n",
       "      <td>1.727281</td>\n",
       "      <td>3.908090</td>\n",
       "      <td>3.972193</td>\n",
       "      <td>...</td>\n",
       "      <td>4.783214</td>\n",
       "      <td>9.800737</td>\n",
       "      <td>5.592622</td>\n",
       "      <td>1.360297</td>\n",
       "      <td>27.636446</td>\n",
       "      <td>3.230863</td>\n",
       "      <td>5.068558</td>\n",
       "      <td>11.992589</td>\n",
       "      <td>1.283609</td>\n",
       "      <td>2.997208</td>\n",
       "    </tr>\n",
       "    <tr>\n",
       "      <th>7557</th>\n",
       "      <td>7.948999</td>\n",
       "      <td>16.173579</td>\n",
       "      <td>2.451303</td>\n",
       "      <td>6.402550</td>\n",
       "      <td>1.903851</td>\n",
       "      <td>0.826904</td>\n",
       "      <td>18.600963</td>\n",
       "      <td>1.733561</td>\n",
       "      <td>3.915706</td>\n",
       "      <td>3.907890</td>\n",
       "      <td>...</td>\n",
       "      <td>4.785520</td>\n",
       "      <td>9.828189</td>\n",
       "      <td>5.613842</td>\n",
       "      <td>1.386686</td>\n",
       "      <td>27.242565</td>\n",
       "      <td>3.214172</td>\n",
       "      <td>5.103830</td>\n",
       "      <td>12.141075</td>\n",
       "      <td>1.289260</td>\n",
       "      <td>3.036000</td>\n",
       "    </tr>\n",
       "    <tr>\n",
       "      <th>7558</th>\n",
       "      <td>8.035642</td>\n",
       "      <td>15.948037</td>\n",
       "      <td>2.436625</td>\n",
       "      <td>6.392624</td>\n",
       "      <td>1.909864</td>\n",
       "      <td>0.838800</td>\n",
       "      <td>19.029802</td>\n",
       "      <td>1.716976</td>\n",
       "      <td>3.974693</td>\n",
       "      <td>3.907123</td>\n",
       "      <td>...</td>\n",
       "      <td>4.731145</td>\n",
       "      <td>9.958499</td>\n",
       "      <td>5.642710</td>\n",
       "      <td>1.388454</td>\n",
       "      <td>27.192116</td>\n",
       "      <td>3.251017</td>\n",
       "      <td>5.084781</td>\n",
       "      <td>12.211250</td>\n",
       "      <td>1.277440</td>\n",
       "      <td>2.966098</td>\n",
       "    </tr>\n",
       "    <tr>\n",
       "      <th>7559</th>\n",
       "      <td>8.148026</td>\n",
       "      <td>15.741851</td>\n",
       "      <td>2.452767</td>\n",
       "      <td>6.481575</td>\n",
       "      <td>1.899059</td>\n",
       "      <td>0.828181</td>\n",
       "      <td>18.940675</td>\n",
       "      <td>1.701376</td>\n",
       "      <td>3.952264</td>\n",
       "      <td>3.895980</td>\n",
       "      <td>...</td>\n",
       "      <td>4.681961</td>\n",
       "      <td>9.888264</td>\n",
       "      <td>5.645113</td>\n",
       "      <td>1.394295</td>\n",
       "      <td>27.555907</td>\n",
       "      <td>3.237679</td>\n",
       "      <td>5.135144</td>\n",
       "      <td>12.068445</td>\n",
       "      <td>1.275446</td>\n",
       "      <td>2.978170</td>\n",
       "    </tr>\n",
       "    <tr>\n",
       "      <th>7560</th>\n",
       "      <td>8.100324</td>\n",
       "      <td>15.678430</td>\n",
       "      <td>2.431382</td>\n",
       "      <td>6.507499</td>\n",
       "      <td>1.874105</td>\n",
       "      <td>0.834171</td>\n",
       "      <td>19.020173</td>\n",
       "      <td>1.689365</td>\n",
       "      <td>3.926822</td>\n",
       "      <td>3.846731</td>\n",
       "      <td>...</td>\n",
       "      <td>4.609681</td>\n",
       "      <td>9.906244</td>\n",
       "      <td>5.563152</td>\n",
       "      <td>1.407400</td>\n",
       "      <td>27.475233</td>\n",
       "      <td>3.251471</td>\n",
       "      <td>5.132719</td>\n",
       "      <td>12.154256</td>\n",
       "      <td>1.269548</td>\n",
       "      <td>2.991101</td>\n",
       "    </tr>\n",
       "  </tbody>\n",
       "</table>\n",
       "<p>7561 rows × 500 columns</p>\n",
       "</div>"
      ],
      "text/plain": [
       "           0          1         2         3         4         5          6    \\\n",
       "0     1.000000   1.000000  1.000000  1.000000  1.000000  1.000000   1.000000   \n",
       "1     1.010158   1.006089  1.012726  1.016649  0.999649  1.003067   1.006130   \n",
       "2     1.004113   0.999141  1.007267  1.019494  0.995039  1.006817   0.999641   \n",
       "3     0.993511   0.985481  1.001803  1.011331  0.986608  0.997901   0.989217   \n",
       "4     1.005082   0.963286  0.995859  1.007377  0.976485  0.999034   0.995521   \n",
       "...        ...        ...       ...       ...       ...       ...        ...   \n",
       "7556  8.075809  16.105709  2.432994  6.478448  1.886632  0.824700  18.587540   \n",
       "7557  7.948999  16.173579  2.451303  6.402550  1.903851  0.826904  18.600963   \n",
       "7558  8.035642  15.948037  2.436625  6.392624  1.909864  0.838800  19.029802   \n",
       "7559  8.148026  15.741851  2.452767  6.481575  1.899059  0.828181  18.940675   \n",
       "7560  8.100324  15.678430  2.431382  6.507499  1.874105  0.834171  19.020173   \n",
       "\n",
       "           7         8         9    ...       490       491       492  \\\n",
       "0     1.000000  1.000000  1.000000  ...  1.000000  1.000000  1.000000   \n",
       "1     1.011530  1.002096  0.985970  ...  1.018597  1.003919  0.985874   \n",
       "2     1.014879  1.015207  0.986795  ...  1.010372  1.001744  0.997299   \n",
       "3     1.014607  1.016125  0.973712  ...  1.017705  0.999493  0.999431   \n",
       "4     1.008130  1.015876  0.981529  ...  1.025086  0.996970  0.978743   \n",
       "...        ...       ...       ...  ...       ...       ...       ...   \n",
       "7556  1.727281  3.908090  3.972193  ...  4.783214  9.800737  5.592622   \n",
       "7557  1.733561  3.915706  3.907890  ...  4.785520  9.828189  5.613842   \n",
       "7558  1.716976  3.974693  3.907123  ...  4.731145  9.958499  5.642710   \n",
       "7559  1.701376  3.952264  3.895980  ...  4.681961  9.888264  5.645113   \n",
       "7560  1.689365  3.926822  3.846731  ...  4.609681  9.906244  5.563152   \n",
       "\n",
       "           493        494       495       496        497       498       499  \n",
       "0     1.000000   1.000000  1.000000  1.000000   1.000000  1.000000  1.000000  \n",
       "1     0.988933   0.994466  1.003892  0.994596   1.010284  1.006244  1.006597  \n",
       "2     0.985474   1.001831  1.008855  0.994687   1.015247  1.001057  1.021770  \n",
       "3     0.993382   1.003622  1.005786  0.994408   1.008402  1.013694  1.007874  \n",
       "4     0.985847   1.006478  1.014873  0.981078   1.002778  1.025083  1.020748  \n",
       "...        ...        ...       ...       ...        ...       ...       ...  \n",
       "7556  1.360297  27.636446  3.230863  5.068558  11.992589  1.283609  2.997208  \n",
       "7557  1.386686  27.242565  3.214172  5.103830  12.141075  1.289260  3.036000  \n",
       "7558  1.388454  27.192116  3.251017  5.084781  12.211250  1.277440  2.966098  \n",
       "7559  1.394295  27.555907  3.237679  5.135144  12.068445  1.275446  2.978170  \n",
       "7560  1.407400  27.475233  3.251471  5.132719  12.154256  1.269548  2.991101  \n",
       "\n",
       "[7561 rows x 500 columns]"
      ]
     },
     "execution_count": 31,
     "metadata": {},
     "output_type": "execute_result"
    }
   ],
   "source": [
    "# Run the Monte Carlo simulation to forecast 30 years cumulative returns\n",
    "retirement_MC.calc_cumulative_return()"
   ]
  },
  {
   "cell_type": "code",
   "execution_count": 32,
   "metadata": {},
   "outputs": [
    {
     "data": {
      "text/plain": [
       "<AxesSubplot:title={'center':'500 Simulations of Cumulative Portfolio Return Trajectories Over the Next 7560 Trading Days.'}>"
      ]
     },
     "execution_count": 32,
     "metadata": {},
     "output_type": "execute_result"
    },
    {
     "data": {
      "image/png": "[encoded data removed]",
      "text/plain": [
       "<Figure size 432x288 with 1 Axes>"
      ]
     },
     "metadata": {
      "needs_background": "light"
     },
     "output_type": "display_data"
    }
   ],
   "source": [
    "# Visualize the 30-year Monte Carlo simulation\n",
    "retirement_MC.plot_simulation()"
   ]
  },
  {
   "cell_type": "code",
   "execution_count": 33,
   "metadata": {},
   "outputs": [
    {
     "data": {
      "text/plain": [
       "<AxesSubplot:title={'center':'Distribution of Final Cumuluative Returns Across All 500 Simulations'}, ylabel='Frequency'>"
      ]
     },
     "execution_count": 33,
     "metadata": {},
     "output_type": "execute_result"
    },
    {
     "data": {
      "image/png": "[encoded data removed]",
      "text/plain": [
       "<Figure size 432x288 with 1 Axes>"
      ]
     },
     "metadata": {
      "needs_background": "light"
     },
     "output_type": "display_data"
    }
   ],
   "source": [
    "# Visualize the probability distribution of the 30-year Monte Carlo simulation\n",
    "retirement_MC.plot_distribution()"
   ]
  },
  {
   "cell_type": "code",
   "execution_count": 34,
   "metadata": {},
   "outputs": [
    {
     "data": {
      "text/plain": [
       "count           500.000000\n",
       "mean              5.375465\n",
       "std               4.597924\n",
       "min               0.531229\n",
       "25%               2.160187\n",
       "50%               4.108943\n",
       "75%               6.690100\n",
       "max              31.742369\n",
       "95% CI Lower      0.807419\n",
       "95% CI Upper     17.202851\n",
       "Name: 7560, dtype: float64"
      ]
     },
     "execution_count": 34,
     "metadata": {},
     "output_type": "execute_result"
    }
   ],
   "source": [
    "# Generate summary statistics from the 30-year Monte Carlo simulation results\n",
    "retirement_summary_statistics = retirement_MC.summarize_cumulative_return()\n",
    "\n",
    "retirement_summary_statistics"
   ]
  },
  {
   "cell_type": "markdown",
   "metadata": {},
   "source": [
    "### Analyze the Retirement Portfolio Forecasts"
   ]
  },
  {
   "cell_type": "code",
   "execution_count": 35,
   "metadata": {},
   "outputs": [
    {
     "data": {
      "text/plain": [
       "62814.3"
      ]
     },
     "execution_count": 35,
     "metadata": {},
     "output_type": "execute_result"
    }
   ],
   "source": [
    "total_stocks_bonds"
   ]
  },
  {
   "cell_type": "code",
   "execution_count": 36,
   "metadata": {},
   "outputs": [
    {
     "name": "stdout",
     "output_type": "stream",
     "text": [
      "With a 95% confidence level, the total value of your stock and bond portfolio will be between $ 50717.47 and  1080585.07 in the next 30 years.\n"
     ]
    }
   ],
   "source": [
    "# Use the lower and upper `95%` confidence intervals to calculate the range of the possible outcomes for the current stock/bond portfolio\n",
    "ci_lower_thirty_cumulative_return = round(retirement_summary_statistics[8] * total_stocks_bonds, 2)\n",
    "ci_upper_thirty_cumulative_return = round(retirement_summary_statistics[9] * total_stocks_bonds, 2)\n",
    "\n",
    "print(f\"With a 95% confidence level, the total value of your stock and bond portfolio will be between ${ci_lower_thirty_cumulative_return: .2f} and {ci_upper_thirty_cumulative_return: .2f} in the next 30 years.\")"
   ]
  },
  {
   "cell_type": "markdown",
   "metadata": {},
   "source": [
    "### Forecast Cumulative Returns in 10 Years"
   ]
  },
  {
   "cell_type": "code",
   "execution_count": 37,
   "metadata": {},
   "outputs": [
    {
     "data": {
      "text/html": [
       "<div>\n",
       "<style scoped>\n",
       "    .dataframe tbody tr th:only-of-type {\n",
       "        vertical-align: middle;\n",
       "    }\n",
       "\n",
       "    .dataframe tbody tr th {\n",
       "        vertical-align: top;\n",
       "    }\n",
       "\n",
       "    .dataframe thead tr th {\n",
       "        text-align: left;\n",
       "    }\n",
       "\n",
       "    .dataframe thead tr:last-of-type th {\n",
       "        text-align: right;\n",
       "    }\n",
       "</style>\n",
       "<table border=\"1\" class=\"dataframe\">\n",
       "  <thead>\n",
       "    <tr>\n",
       "      <th></th>\n",
       "      <th colspan=\"6\" halign=\"left\">AGG</th>\n",
       "      <th colspan=\"6\" halign=\"left\">SPY</th>\n",
       "    </tr>\n",
       "    <tr>\n",
       "      <th></th>\n",
       "      <th>open</th>\n",
       "      <th>high</th>\n",
       "      <th>low</th>\n",
       "      <th>close</th>\n",
       "      <th>volume</th>\n",
       "      <th>daily_return</th>\n",
       "      <th>open</th>\n",
       "      <th>high</th>\n",
       "      <th>low</th>\n",
       "      <th>close</th>\n",
       "      <th>volume</th>\n",
       "      <th>daily_return</th>\n",
       "    </tr>\n",
       "    <tr>\n",
       "      <th>timestamp</th>\n",
       "      <th></th>\n",
       "      <th></th>\n",
       "      <th></th>\n",
       "      <th></th>\n",
       "      <th></th>\n",
       "      <th></th>\n",
       "      <th></th>\n",
       "      <th></th>\n",
       "      <th></th>\n",
       "      <th></th>\n",
       "      <th></th>\n",
       "      <th></th>\n",
       "    </tr>\n",
       "  </thead>\n",
       "  <tbody>\n",
       "    <tr>\n",
       "      <th>2019-07-15 04:00:00+00:00</th>\n",
       "      <td>110.87</td>\n",
       "      <td>110.960</td>\n",
       "      <td>110.85</td>\n",
       "      <td>110.95</td>\n",
       "      <td>3619089</td>\n",
       "      <td>NaN</td>\n",
       "      <td>301.12</td>\n",
       "      <td>301.13</td>\n",
       "      <td>300.19</td>\n",
       "      <td>300.75</td>\n",
       "      <td>33992129</td>\n",
       "      <td>NaN</td>\n",
       "    </tr>\n",
       "    <tr>\n",
       "      <th>2019-07-16 04:00:00+00:00</th>\n",
       "      <td>110.75</td>\n",
       "      <td>110.830</td>\n",
       "      <td>110.64</td>\n",
       "      <td>110.83</td>\n",
       "      <td>2149083</td>\n",
       "      <td>-0.001082</td>\n",
       "      <td>300.64</td>\n",
       "      <td>300.88</td>\n",
       "      <td>299.44</td>\n",
       "      <td>299.71</td>\n",
       "      <td>40807546</td>\n",
       "      <td>-0.003458</td>\n",
       "    </tr>\n",
       "    <tr>\n",
       "      <th>2019-07-17 04:00:00+00:00</th>\n",
       "      <td>110.93</td>\n",
       "      <td>111.140</td>\n",
       "      <td>110.91</td>\n",
       "      <td>111.12</td>\n",
       "      <td>2985610</td>\n",
       "      <td>0.002617</td>\n",
       "      <td>299.77</td>\n",
       "      <td>299.93</td>\n",
       "      <td>297.74</td>\n",
       "      <td>297.74</td>\n",
       "      <td>44343835</td>\n",
       "      <td>-0.006573</td>\n",
       "    </tr>\n",
       "    <tr>\n",
       "      <th>2019-07-18 04:00:00+00:00</th>\n",
       "      <td>111.10</td>\n",
       "      <td>111.330</td>\n",
       "      <td>111.06</td>\n",
       "      <td>111.30</td>\n",
       "      <td>5982223</td>\n",
       "      <td>0.001620</td>\n",
       "      <td>297.18</td>\n",
       "      <td>299.25</td>\n",
       "      <td>296.70</td>\n",
       "      <td>298.83</td>\n",
       "      <td>53567032</td>\n",
       "      <td>0.003661</td>\n",
       "    </tr>\n",
       "    <tr>\n",
       "      <th>2019-07-19 04:00:00+00:00</th>\n",
       "      <td>111.22</td>\n",
       "      <td>111.286</td>\n",
       "      <td>111.14</td>\n",
       "      <td>111.17</td>\n",
       "      <td>3150774</td>\n",
       "      <td>-0.001168</td>\n",
       "      <td>300.01</td>\n",
       "      <td>300.07</td>\n",
       "      <td>296.96</td>\n",
       "      <td>297.17</td>\n",
       "      <td>76794138</td>\n",
       "      <td>-0.005555</td>\n",
       "    </tr>\n",
       "  </tbody>\n",
       "</table>\n",
       "</div>"
      ],
      "text/plain": [
       "                              AGG                                    \\\n",
       "                             open     high     low   close   volume   \n",
       "timestamp                                                             \n",
       "2019-07-15 04:00:00+00:00  110.87  110.960  110.85  110.95  3619089   \n",
       "2019-07-16 04:00:00+00:00  110.75  110.830  110.64  110.83  2149083   \n",
       "2019-07-17 04:00:00+00:00  110.93  111.140  110.91  111.12  2985610   \n",
       "2019-07-18 04:00:00+00:00  111.10  111.330  111.06  111.30  5982223   \n",
       "2019-07-19 04:00:00+00:00  111.22  111.286  111.14  111.17  3150774   \n",
       "\n",
       "                                           SPY                          \\\n",
       "                          daily_return    open    high     low   close   \n",
       "timestamp                                                                \n",
       "2019-07-15 04:00:00+00:00          NaN  301.12  301.13  300.19  300.75   \n",
       "2019-07-16 04:00:00+00:00    -0.001082  300.64  300.88  299.44  299.71   \n",
       "2019-07-17 04:00:00+00:00     0.002617  299.77  299.93  297.74  297.74   \n",
       "2019-07-18 04:00:00+00:00     0.001620  297.18  299.25  296.70  298.83   \n",
       "2019-07-19 04:00:00+00:00    -0.001168  300.01  300.07  296.96  297.17   \n",
       "\n",
       "                                                  \n",
       "                             volume daily_return  \n",
       "timestamp                                         \n",
       "2019-07-15 04:00:00+00:00  33992129          NaN  \n",
       "2019-07-16 04:00:00+00:00  40807546    -0.003458  \n",
       "2019-07-17 04:00:00+00:00  44343835    -0.006573  \n",
       "2019-07-18 04:00:00+00:00  53567032     0.003661  \n",
       "2019-07-19 04:00:00+00:00  76794138    -0.005555  "
      ]
     },
     "execution_count": 37,
     "metadata": {},
     "output_type": "execute_result"
    }
   ],
   "source": [
    "# Configure a Monte Carlo simulation to forecast 10 years cumulative returns with a 20/80 split between bonds and stocks respectively\n",
    "ten_year_retirement_MC=MCSimulation(\n",
    "    portfolio_data=retirement_df,\n",
    "    weights=[.2, .8],\n",
    "    num_simulation=500,\n",
    "    num_trading_days=252*10\n",
    ")\n",
    "\n",
    "ten_year_retirement_MC.portfolio_data.head()"
   ]
  },
  {
   "cell_type": "code",
   "execution_count": 38,
   "metadata": {},
   "outputs": [
    {
     "name": "stdout",
     "output_type": "stream",
     "text": [
      "Running Monte Carlo simulation number 0.\n",
      "Running Monte Carlo simulation number 10.\n",
      "Running Monte Carlo simulation number 20.\n",
      "Running Monte Carlo simulation number 30.\n",
      "Running Monte Carlo simulation number 40.\n",
      "Running Monte Carlo simulation number 50.\n",
      "Running Monte Carlo simulation number 60.\n",
      "Running Monte Carlo simulation number 70.\n",
      "Running Monte Carlo simulation number 80.\n",
      "Running Monte Carlo simulation number 90.\n",
      "Running Monte Carlo simulation number 100.\n"
     ]
    },
    {
     "name": "stderr",
     "output_type": "stream",
     "text": [
      "C:\\Users\\Ryan Mangum\\Desktop\\FinTech_Workspace\\Challenges\\Challenge_5\\Financial_Planner_Emergencies_-_Retirement\\MCForecastTools.py:117: PerformanceWarning: DataFrame is highly fragmented.  This is usually the result of calling `frame.insert` many times, which has poor performance.  Consider joining all columns at once using pd.concat(axis=1) instead.  To get a de-fragmented frame, use `newframe = frame.copy()`\n",
      "  portfolio_cumulative_returns[n] = (1 + sim_df.fillna(0)).cumprod()\n"
     ]
    },
    {
     "name": "stdout",
     "output_type": "stream",
     "text": [
      "Running Monte Carlo simulation number 110.\n",
      "Running Monte Carlo simulation number 120.\n",
      "Running Monte Carlo simulation number 130.\n",
      "Running Monte Carlo simulation number 140.\n",
      "Running Monte Carlo simulation number 150.\n",
      "Running Monte Carlo simulation number 160.\n",
      "Running Monte Carlo simulation number 170.\n",
      "Running Monte Carlo simulation number 180.\n",
      "Running Monte Carlo simulation number 190.\n",
      "Running Monte Carlo simulation number 200.\n",
      "Running Monte Carlo simulation number 210.\n",
      "Running Monte Carlo simulation number 220.\n",
      "Running Monte Carlo simulation number 230.\n",
      "Running Monte Carlo simulation number 240.\n",
      "Running Monte Carlo simulation number 250.\n",
      "Running Monte Carlo simulation number 260.\n",
      "Running Monte Carlo simulation number 270.\n",
      "Running Monte Carlo simulation number 280.\n",
      "Running Monte Carlo simulation number 290.\n",
      "Running Monte Carlo simulation number 300.\n",
      "Running Monte Carlo simulation number 310.\n",
      "Running Monte Carlo simulation number 320.\n",
      "Running Monte Carlo simulation number 330.\n",
      "Running Monte Carlo simulation number 340.\n",
      "Running Monte Carlo simulation number 350.\n",
      "Running Monte Carlo simulation number 360.\n",
      "Running Monte Carlo simulation number 370.\n",
      "Running Monte Carlo simulation number 380.\n",
      "Running Monte Carlo simulation number 390.\n",
      "Running Monte Carlo simulation number 400.\n",
      "Running Monte Carlo simulation number 410.\n",
      "Running Monte Carlo simulation number 420.\n",
      "Running Monte Carlo simulation number 430.\n",
      "Running Monte Carlo simulation number 440.\n",
      "Running Monte Carlo simulation number 450.\n",
      "Running Monte Carlo simulation number 460.\n",
      "Running Monte Carlo simulation number 470.\n",
      "Running Monte Carlo simulation number 480.\n",
      "Running Monte Carlo simulation number 490.\n"
     ]
    },
    {
     "data": {
      "text/html": [
       "<div>\n",
       "<style scoped>\n",
       "    .dataframe tbody tr th:only-of-type {\n",
       "        vertical-align: middle;\n",
       "    }\n",
       "\n",
       "    .dataframe tbody tr th {\n",
       "        vertical-align: top;\n",
       "    }\n",
       "\n",
       "    .dataframe thead th {\n",
       "        text-align: right;\n",
       "    }\n",
       "</style>\n",
       "<table border=\"1\" class=\"dataframe\">\n",
       "  <thead>\n",
       "    <tr style=\"text-align: right;\">\n",
       "      <th></th>\n",
       "      <th>0</th>\n",
       "      <th>1</th>\n",
       "      <th>2</th>\n",
       "      <th>3</th>\n",
       "      <th>4</th>\n",
       "      <th>5</th>\n",
       "      <th>6</th>\n",
       "      <th>7</th>\n",
       "      <th>8</th>\n",
       "      <th>9</th>\n",
       "      <th>...</th>\n",
       "      <th>490</th>\n",
       "      <th>491</th>\n",
       "      <th>492</th>\n",
       "      <th>493</th>\n",
       "      <th>494</th>\n",
       "      <th>495</th>\n",
       "      <th>496</th>\n",
       "      <th>497</th>\n",
       "      <th>498</th>\n",
       "      <th>499</th>\n",
       "    </tr>\n",
       "  </thead>\n",
       "  <tbody>\n",
       "    <tr>\n",
       "      <th>0</th>\n",
       "      <td>1.000000</td>\n",
       "      <td>1.000000</td>\n",
       "      <td>1.000000</td>\n",
       "      <td>1.000000</td>\n",
       "      <td>1.000000</td>\n",
       "      <td>1.000000</td>\n",
       "      <td>1.000000</td>\n",
       "      <td>1.000000</td>\n",
       "      <td>1.000000</td>\n",
       "      <td>1.000000</td>\n",
       "      <td>...</td>\n",
       "      <td>1.000000</td>\n",
       "      <td>1.000000</td>\n",
       "      <td>1.000000</td>\n",
       "      <td>1.000000</td>\n",
       "      <td>1.000000</td>\n",
       "      <td>1.000000</td>\n",
       "      <td>1.000000</td>\n",
       "      <td>1.000000</td>\n",
       "      <td>1.000000</td>\n",
       "      <td>1.000000</td>\n",
       "    </tr>\n",
       "    <tr>\n",
       "      <th>1</th>\n",
       "      <td>1.004066</td>\n",
       "      <td>1.018909</td>\n",
       "      <td>1.006313</td>\n",
       "      <td>1.018220</td>\n",
       "      <td>0.998460</td>\n",
       "      <td>0.983029</td>\n",
       "      <td>0.994672</td>\n",
       "      <td>1.003297</td>\n",
       "      <td>1.002945</td>\n",
       "      <td>0.990865</td>\n",
       "      <td>...</td>\n",
       "      <td>0.993988</td>\n",
       "      <td>0.995723</td>\n",
       "      <td>1.006358</td>\n",
       "      <td>1.003710</td>\n",
       "      <td>0.985715</td>\n",
       "      <td>0.994407</td>\n",
       "      <td>1.017754</td>\n",
       "      <td>0.998943</td>\n",
       "      <td>0.991215</td>\n",
       "      <td>0.979264</td>\n",
       "    </tr>\n",
       "    <tr>\n",
       "      <th>2</th>\n",
       "      <td>0.997444</td>\n",
       "      <td>1.005373</td>\n",
       "      <td>1.000041</td>\n",
       "      <td>1.011324</td>\n",
       "      <td>0.981210</td>\n",
       "      <td>0.981788</td>\n",
       "      <td>0.998279</td>\n",
       "      <td>0.987296</td>\n",
       "      <td>1.007424</td>\n",
       "      <td>0.980292</td>\n",
       "      <td>...</td>\n",
       "      <td>0.972728</td>\n",
       "      <td>0.997405</td>\n",
       "      <td>0.986868</td>\n",
       "      <td>1.000252</td>\n",
       "      <td>0.998022</td>\n",
       "      <td>0.977464</td>\n",
       "      <td>1.007888</td>\n",
       "      <td>0.991391</td>\n",
       "      <td>0.981511</td>\n",
       "      <td>0.958970</td>\n",
       "    </tr>\n",
       "    <tr>\n",
       "      <th>3</th>\n",
       "      <td>0.998827</td>\n",
       "      <td>1.002030</td>\n",
       "      <td>1.008495</td>\n",
       "      <td>1.014214</td>\n",
       "      <td>0.984381</td>\n",
       "      <td>0.999016</td>\n",
       "      <td>1.007711</td>\n",
       "      <td>1.009225</td>\n",
       "      <td>1.005070</td>\n",
       "      <td>0.981243</td>\n",
       "      <td>...</td>\n",
       "      <td>0.951967</td>\n",
       "      <td>0.995055</td>\n",
       "      <td>0.991158</td>\n",
       "      <td>1.017991</td>\n",
       "      <td>0.980731</td>\n",
       "      <td>0.967024</td>\n",
       "      <td>1.004129</td>\n",
       "      <td>1.000584</td>\n",
       "      <td>0.984410</td>\n",
       "      <td>0.960575</td>\n",
       "    </tr>\n",
       "    <tr>\n",
       "      <th>4</th>\n",
       "      <td>0.988624</td>\n",
       "      <td>1.002567</td>\n",
       "      <td>1.013724</td>\n",
       "      <td>1.008748</td>\n",
       "      <td>0.990600</td>\n",
       "      <td>0.991403</td>\n",
       "      <td>0.999944</td>\n",
       "      <td>1.012210</td>\n",
       "      <td>1.019500</td>\n",
       "      <td>1.001002</td>\n",
       "      <td>...</td>\n",
       "      <td>0.964421</td>\n",
       "      <td>0.984070</td>\n",
       "      <td>0.991453</td>\n",
       "      <td>1.019402</td>\n",
       "      <td>0.991766</td>\n",
       "      <td>0.961685</td>\n",
       "      <td>0.994154</td>\n",
       "      <td>0.995465</td>\n",
       "      <td>0.998658</td>\n",
       "      <td>0.944189</td>\n",
       "    </tr>\n",
       "    <tr>\n",
       "      <th>...</th>\n",
       "      <td>...</td>\n",
       "      <td>...</td>\n",
       "      <td>...</td>\n",
       "      <td>...</td>\n",
       "      <td>...</td>\n",
       "      <td>...</td>\n",
       "      <td>...</td>\n",
       "      <td>...</td>\n",
       "      <td>...</td>\n",
       "      <td>...</td>\n",
       "      <td>...</td>\n",
       "      <td>...</td>\n",
       "      <td>...</td>\n",
       "      <td>...</td>\n",
       "      <td>...</td>\n",
       "      <td>...</td>\n",
       "      <td>...</td>\n",
       "      <td>...</td>\n",
       "      <td>...</td>\n",
       "      <td>...</td>\n",
       "      <td>...</td>\n",
       "    </tr>\n",
       "    <tr>\n",
       "      <th>2516</th>\n",
       "      <td>2.359258</td>\n",
       "      <td>2.960988</td>\n",
       "      <td>2.872223</td>\n",
       "      <td>1.311383</td>\n",
       "      <td>1.532403</td>\n",
       "      <td>3.127168</td>\n",
       "      <td>1.682900</td>\n",
       "      <td>2.617190</td>\n",
       "      <td>1.757634</td>\n",
       "      <td>2.292283</td>\n",
       "      <td>...</td>\n",
       "      <td>1.236041</td>\n",
       "      <td>2.124256</td>\n",
       "      <td>2.053429</td>\n",
       "      <td>0.638028</td>\n",
       "      <td>4.354595</td>\n",
       "      <td>3.056273</td>\n",
       "      <td>1.097124</td>\n",
       "      <td>5.473195</td>\n",
       "      <td>4.040560</td>\n",
       "      <td>5.488242</td>\n",
       "    </tr>\n",
       "    <tr>\n",
       "      <th>2517</th>\n",
       "      <td>2.367689</td>\n",
       "      <td>2.961790</td>\n",
       "      <td>2.834431</td>\n",
       "      <td>1.311965</td>\n",
       "      <td>1.519329</td>\n",
       "      <td>3.128085</td>\n",
       "      <td>1.664252</td>\n",
       "      <td>2.620982</td>\n",
       "      <td>1.730311</td>\n",
       "      <td>2.295504</td>\n",
       "      <td>...</td>\n",
       "      <td>1.257446</td>\n",
       "      <td>2.053858</td>\n",
       "      <td>2.082413</td>\n",
       "      <td>0.651406</td>\n",
       "      <td>4.371512</td>\n",
       "      <td>3.009378</td>\n",
       "      <td>1.095709</td>\n",
       "      <td>5.454905</td>\n",
       "      <td>3.967007</td>\n",
       "      <td>5.609066</td>\n",
       "    </tr>\n",
       "    <tr>\n",
       "      <th>2518</th>\n",
       "      <td>2.363130</td>\n",
       "      <td>2.931437</td>\n",
       "      <td>2.878362</td>\n",
       "      <td>1.335119</td>\n",
       "      <td>1.523640</td>\n",
       "      <td>3.101427</td>\n",
       "      <td>1.638877</td>\n",
       "      <td>2.666007</td>\n",
       "      <td>1.723568</td>\n",
       "      <td>2.303401</td>\n",
       "      <td>...</td>\n",
       "      <td>1.280256</td>\n",
       "      <td>2.046187</td>\n",
       "      <td>2.087980</td>\n",
       "      <td>0.642293</td>\n",
       "      <td>4.321309</td>\n",
       "      <td>2.954071</td>\n",
       "      <td>1.100300</td>\n",
       "      <td>5.627217</td>\n",
       "      <td>3.973715</td>\n",
       "      <td>5.557343</td>\n",
       "    </tr>\n",
       "    <tr>\n",
       "      <th>2519</th>\n",
       "      <td>2.317863</td>\n",
       "      <td>2.940378</td>\n",
       "      <td>2.865034</td>\n",
       "      <td>1.310873</td>\n",
       "      <td>1.509226</td>\n",
       "      <td>3.115241</td>\n",
       "      <td>1.639386</td>\n",
       "      <td>2.762123</td>\n",
       "      <td>1.731514</td>\n",
       "      <td>2.230735</td>\n",
       "      <td>...</td>\n",
       "      <td>1.272354</td>\n",
       "      <td>2.035235</td>\n",
       "      <td>2.072359</td>\n",
       "      <td>0.635262</td>\n",
       "      <td>4.286558</td>\n",
       "      <td>2.996205</td>\n",
       "      <td>1.103629</td>\n",
       "      <td>5.589006</td>\n",
       "      <td>3.989958</td>\n",
       "      <td>5.608167</td>\n",
       "    </tr>\n",
       "    <tr>\n",
       "      <th>2520</th>\n",
       "      <td>2.295548</td>\n",
       "      <td>2.952698</td>\n",
       "      <td>2.851664</td>\n",
       "      <td>1.351117</td>\n",
       "      <td>1.549345</td>\n",
       "      <td>3.102258</td>\n",
       "      <td>1.605858</td>\n",
       "      <td>2.794496</td>\n",
       "      <td>1.730638</td>\n",
       "      <td>2.230927</td>\n",
       "      <td>...</td>\n",
       "      <td>1.292821</td>\n",
       "      <td>2.042692</td>\n",
       "      <td>2.122698</td>\n",
       "      <td>0.634373</td>\n",
       "      <td>4.350343</td>\n",
       "      <td>2.959735</td>\n",
       "      <td>1.111995</td>\n",
       "      <td>5.625470</td>\n",
       "      <td>4.055036</td>\n",
       "      <td>5.591664</td>\n",
       "    </tr>\n",
       "  </tbody>\n",
       "</table>\n",
       "<p>2521 rows × 500 columns</p>\n",
       "</div>"
      ],
      "text/plain": [
       "           0         1         2         3         4         5         6    \\\n",
       "0     1.000000  1.000000  1.000000  1.000000  1.000000  1.000000  1.000000   \n",
       "1     1.004066  1.018909  1.006313  1.018220  0.998460  0.983029  0.994672   \n",
       "2     0.997444  1.005373  1.000041  1.011324  0.981210  0.981788  0.998279   \n",
       "3     0.998827  1.002030  1.008495  1.014214  0.984381  0.999016  1.007711   \n",
       "4     0.988624  1.002567  1.013724  1.008748  0.990600  0.991403  0.999944   \n",
       "...        ...       ...       ...       ...       ...       ...       ...   \n",
       "2516  2.359258  2.960988  2.872223  1.311383  1.532403  3.127168  1.682900   \n",
       "2517  2.367689  2.961790  2.834431  1.311965  1.519329  3.128085  1.664252   \n",
       "2518  2.363130  2.931437  2.878362  1.335119  1.523640  3.101427  1.638877   \n",
       "2519  2.317863  2.940378  2.865034  1.310873  1.509226  3.115241  1.639386   \n",
       "2520  2.295548  2.952698  2.851664  1.351117  1.549345  3.102258  1.605858   \n",
       "\n",
       "           7         8         9    ...       490       491       492  \\\n",
       "0     1.000000  1.000000  1.000000  ...  1.000000  1.000000  1.000000   \n",
       "1     1.003297  1.002945  0.990865  ...  0.993988  0.995723  1.006358   \n",
       "2     0.987296  1.007424  0.980292  ...  0.972728  0.997405  0.986868   \n",
       "3     1.009225  1.005070  0.981243  ...  0.951967  0.995055  0.991158   \n",
       "4     1.012210  1.019500  1.001002  ...  0.964421  0.984070  0.991453   \n",
       "...        ...       ...       ...  ...       ...       ...       ...   \n",
       "2516  2.617190  1.757634  2.292283  ...  1.236041  2.124256  2.053429   \n",
       "2517  2.620982  1.730311  2.295504  ...  1.257446  2.053858  2.082413   \n",
       "2518  2.666007  1.723568  2.303401  ...  1.280256  2.046187  2.087980   \n",
       "2519  2.762123  1.731514  2.230735  ...  1.272354  2.035235  2.072359   \n",
       "2520  2.794496  1.730638  2.230927  ...  1.292821  2.042692  2.122698   \n",
       "\n",
       "           493       494       495       496       497       498       499  \n",
       "0     1.000000  1.000000  1.000000  1.000000  1.000000  1.000000  1.000000  \n",
       "1     1.003710  0.985715  0.994407  1.017754  0.998943  0.991215  0.979264  \n",
       "2     1.000252  0.998022  0.977464  1.007888  0.991391  0.981511  0.958970  \n",
       "3     1.017991  0.980731  0.967024  1.004129  1.000584  0.984410  0.960575  \n",
       "4     1.019402  0.991766  0.961685  0.994154  0.995465  0.998658  0.944189  \n",
       "...        ...       ...       ...       ...       ...       ...       ...  \n",
       "2516  0.638028  4.354595  3.056273  1.097124  5.473195  4.040560  5.488242  \n",
       "2517  0.651406  4.371512  3.009378  1.095709  5.454905  3.967007  5.609066  \n",
       "2518  0.642293  4.321309  2.954071  1.100300  5.627217  3.973715  5.557343  \n",
       "2519  0.635262  4.286558  2.996205  1.103629  5.589006  3.989958  5.608167  \n",
       "2520  0.634373  4.350343  2.959735  1.111995  5.625470  4.055036  5.591664  \n",
       "\n",
       "[2521 rows x 500 columns]"
      ]
     },
     "execution_count": 38,
     "metadata": {},
     "output_type": "execute_result"
    }
   ],
   "source": [
    "# Run the Monte Carlo simulation to forecast 10 years cumulative returns\n",
    "ten_year_retirement_MC.calc_cumulative_return()"
   ]
  },
  {
   "cell_type": "code",
   "execution_count": 39,
   "metadata": {},
   "outputs": [
    {
     "data": {
      "text/plain": [
       "<AxesSubplot:title={'center':'500 Simulations of Cumulative Portfolio Return Trajectories Over the Next 2520 Trading Days.'}>"
      ]
     },
     "execution_count": 39,
     "metadata": {},
     "output_type": "execute_result"
    },
    {
     "data": {
      "image/png": "[encoded data removed]",
      "text/plain": [
       "<Figure size 432x288 with 1 Axes>"
      ]
     },
     "metadata": {
      "needs_background": "light"
     },
     "output_type": "display_data"
    }
   ],
   "source": [
    "# Visualize the 10-year Monte Carlo simulation\n",
    "ten_year_retirement_MC.plot_simulation()"
   ]
  },
  {
   "cell_type": "code",
   "execution_count": 40,
   "metadata": {},
   "outputs": [
    {
     "data": {
      "text/plain": [
       "<AxesSubplot:title={'center':'Distribution of Final Cumuluative Returns Across All 500 Simulations'}, ylabel='Frequency'>"
      ]
     },
     "execution_count": 40,
     "metadata": {},
     "output_type": "execute_result"
    },
    {
     "data": {
      "image/png": "[encoded data removed]",
      "text/plain": [
       "<Figure size 432x288 with 1 Axes>"
      ]
     },
     "metadata": {
      "needs_background": "light"
     },
     "output_type": "display_data"
    }
   ],
   "source": [
    "# Visualize the probability distribution of the 10-year Monte Carlo simulation\n",
    "ten_year_retirement_MC.plot_distribution()"
   ]
  },
  {
   "cell_type": "code",
   "execution_count": 41,
   "metadata": {},
   "outputs": [
    {
     "data": {
      "text/plain": [
       "count           500.000000\n",
       "mean              2.312515\n",
       "std               1.561910\n",
       "min               0.353690\n",
       "25%               1.296873\n",
       "50%               1.881028\n",
       "75%               2.944587\n",
       "max              11.736290\n",
       "95% CI Lower      0.620682\n",
       "95% CI Upper      6.404745\n",
       "Name: 2520, dtype: float64"
      ]
     },
     "execution_count": 41,
     "metadata": {},
     "output_type": "execute_result"
    }
   ],
   "source": [
    "# Generate summary statistics from the 10-year Monte Carlo simulation results\n",
    "ten_year_summary_statistics = ten_year_retirement_MC.summarize_cumulative_return()\n",
    "\n",
    "ten_year_summary_statistics"
   ]
  },
  {
   "cell_type": "code",
   "execution_count": 42,
   "metadata": {},
   "outputs": [
    {
     "data": {
      "text/plain": [
       "62814.3"
      ]
     },
     "execution_count": 42,
     "metadata": {},
     "output_type": "execute_result"
    }
   ],
   "source": [
    "total_stocks_bonds"
   ]
  },
  {
   "cell_type": "code",
   "execution_count": 43,
   "metadata": {},
   "outputs": [
    {
     "name": "stdout",
     "output_type": "stream",
     "text": [
      "With a 95% confidence level, the total value of your stock and bond portfolio will be between $ 38987.73 and  402309.59 in the next 10 years.\n"
     ]
    }
   ],
   "source": [
    "# Use the lower and upper `95%` confidence intervals to calculate the range of the possible outcomes for the current stock/bond portfolio\n",
    "ci_lower_ten_cumulative_return = round(ten_year_summary_statistics[8] * total_stocks_bonds, 2)\n",
    "ci_upper_ten_cumulative_return = round(ten_year_summary_statistics[9] * total_stocks_bonds, 2)\n",
    "\n",
    "print(f\"With a 95% confidence level, the total value of your stock and bond portfolio will be between ${ci_lower_ten_cumulative_return: .2f} and {ci_upper_ten_cumulative_return: .2f} in the next 10 years.\")"
   ]
  },
  {
   "cell_type": "markdown",
   "metadata": {},
   "source": [
    "**Analysis** Unfortunately weighing the portfolio heavier with stocks, does not allow the customer to retire in 10 years."
   ]
  }
 ],
 "metadata": {
  "kernelspec": {
   "display_name": "Python 3 (ipykernel)",
   "language": "python",
   "name": "python3"
  },
  "language_info": {
   "codemirror_mode": {
    "name": "ipython",
    "version": 3
   },
   "file_extension": ".py",
   "mimetype": "text/x-python",
   "name": "python",
   "nbconvert_exporter": "python",
   "pygments_lexer": "ipython3",
   "version": "3.7.13"
  }
 },
 "nbformat": 4,
 "nbformat_minor": 4
}
